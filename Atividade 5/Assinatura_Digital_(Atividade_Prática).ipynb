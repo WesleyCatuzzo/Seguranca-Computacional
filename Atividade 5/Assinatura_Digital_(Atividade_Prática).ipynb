{
  "nbformat": 4,
  "nbformat_minor": 0,
  "metadata": {
    "colab": {
      "provenance": []
    },
    "kernelspec": {
      "name": "python3",
      "display_name": "Python 3"
    },
    "language_info": {
      "name": "python"
    }
  },
  "cells": [
    {
      "cell_type": "code",
      "source": [
        "!pip install cryptography\n",
        "!pip install pycryptodome"
      ],
      "metadata": {
        "id": "uiLmceD-M7fK",
        "colab": {
          "base_uri": "https://localhost:8080/"
        },
        "outputId": "286e9aab-4caf-42ca-f95c-e58cb30d4398"
      },
      "execution_count": 1,
      "outputs": [
        {
          "output_type": "stream",
          "name": "stdout",
          "text": [
            "Requirement already satisfied: cryptography in /usr/local/lib/python3.10/dist-packages (41.0.3)\n",
            "Requirement already satisfied: cffi>=1.12 in /usr/local/lib/python3.10/dist-packages (from cryptography) (1.15.1)\n",
            "Requirement already satisfied: pycparser in /usr/local/lib/python3.10/dist-packages (from cffi>=1.12->cryptography) (2.21)\n",
            "Collecting pycryptodome\n",
            "  Downloading pycryptodome-3.19.0-cp35-abi3-manylinux_2_17_x86_64.manylinux2014_x86_64.whl (2.1 MB)\n",
            "\u001b[2K     \u001b[90m━━━━━━━━━━━━━━━━━━━━━━━━━━━━━━━━━━━━━━━━\u001b[0m \u001b[32m2.1/2.1 MB\u001b[0m \u001b[31m22.1 MB/s\u001b[0m eta \u001b[36m0:00:00\u001b[0m\n",
            "\u001b[?25hInstalling collected packages: pycryptodome\n",
            "Successfully installed pycryptodome-3.19.0\n"
          ]
        }
      ]
    },
    {
      "cell_type": "code",
      "source": [
        "import smtplib\n",
        "import os\n",
        "import base64\n",
        "import imaplib\n",
        "import email\n",
        "from email.mime.multipart import MIMEMultipart\n",
        "from email.mime.text import MIMEText\n",
        "from cryptography.hazmat.primitives.asymmetric import padding\n",
        "from cryptography.hazmat.primitives.asymmetric import dsa\n",
        "from cryptography.hazmat.primitives.ciphers import Cipher, algorithms, modes\n",
        "from cryptography.hazmat.primitives import serialization\n",
        "from cryptography.hazmat.primitives.kdf.pbkdf2 import PBKDF2HMAC\n",
        "from cryptography.hazmat.primitives import hashes\n",
        "from cryptography.fernet import Fernet\n",
        "from cryptography.exceptions import InvalidSignature\n",
        "from Crypto.PublicKey import DSA\n",
        "from Crypto.Hash import SHA256"
      ],
      "metadata": {
        "id": "6Aqith1WVWJB"
      },
      "execution_count": 22,
      "outputs": []
    },
    {
      "cell_type": "code",
      "source": [
        "def generate_key(password, salt):\n",
        "    kdf = PBKDF2HMAC(\n",
        "        algorithm=hashes.SHA256(),\n",
        "        salt=salt,\n",
        "        iterations=500000,\n",
        "        length=32,\n",
        "    )\n",
        "    key = Fernet(base64.urlsafe_b64encode(kdf.derive(password)))\n",
        "    return key\n",
        "\n",
        "def encrypt_message(message, password, salt):\n",
        "    key = generate_key(password, salt)\n",
        "\n",
        "    # Converta a mensagem em bytes\n",
        "    message_bytes = message.encode('utf-8')\n",
        "\n",
        "    # Criptografe a mensagem\n",
        "    encrypted_message = key.encrypt(message_bytes)\n",
        "\n",
        "    return encrypted_message\n",
        "\n",
        "def decrypt_message(encrypted_message, password, salt):\n",
        "    key = generate_key(password, salt)\n",
        "\n",
        "    # Descriptografe a mensagem\n",
        "    decrypted_message_bytes = key.decrypt(encrypted_message)\n",
        "\n",
        "    # Converta os bytes de volta para a mensagem original\n",
        "    decrypted_message = decrypted_message_bytes.decode('utf-8')\n",
        "\n",
        "    return decrypted_message\n",
        "\n",
        "  # Função para gerar um par de chaves DSA\n",
        "def generate_dsa_key_pair():\n",
        "    key_size = 2048\n",
        "    private_key = dsa.generate_private_key(key_size)\n",
        "    public_key = private_key.public_key()\n",
        "    return private_key, public_key\n",
        "\n",
        "# Função para assinar uma mensagem com a chave privada DSA\n",
        "def sign_message(private_key, message):\n",
        "    message_bytes = message.encode('utf-8')\n",
        "    signature = private_key.sign(message_bytes, hashes.SHA256())\n",
        "    return signature\n",
        "\n",
        "# Função para enviar a mensagem criptografada (opcional) e assinada por e-mail\n",
        "def send_email(message, signature, encrypt=False):\n",
        "    # Configurar as informações de email e senha\n",
        "    from_email = 'wacbona@gmail.com'\n",
        "    password = 'rega cguq dxyx cdsd'\n",
        "    to_email = 'wacbona@gmail.com'\n",
        "\n",
        "    # Configurar o servidor SMTP do Gmail\n",
        "    smtp_server = 'smtp.gmail.com'\n",
        "    smtp_port = 587\n",
        "\n",
        "    # Codificar a mensagem e a assinatura como base64\n",
        "    message = base64.b64encode(message).decode('utf-8') if isinstance(message, bytes) else message\n",
        "    signature = base64.b64encode(signature).decode('utf-8') if isinstance(signature, bytes) else signature\n",
        "\n",
        "    # Criar o objeto MIMEMultipart para a mensagem\n",
        "    msg = MIMEMultipart()\n",
        "    msg['From'] = from_email\n",
        "    msg['To'] = to_email\n",
        "    msg['Subject'] = 'Assinatura Digital'\n",
        "\n",
        "    # Se a opção de criptografia estiver ativada, criptografar a mensagem com AES\n",
        "    if encrypt:\n",
        "      # Criptografia com AES\n",
        "      encrypted_message = encrypt_message(message, key, salt).decode('utf-8')\n",
        "\n",
        "      msg.attach(MIMEText(encrypted_message, 'plain'))\n",
        "    else:\n",
        "      # Adicionar a mensagem ao corpo do email\n",
        "      msg.attach(MIMEText(message, 'plain'))\n",
        "\n",
        "    # Anexar a assinatura DSA ao email\n",
        "    msg.attach(MIMEText(signature, 'plain'))\n",
        "\n",
        "    # Iniciar a conexão SMTP e enviar o email\n",
        "    try:\n",
        "        server = smtplib.SMTP(smtp_server, smtp_port)\n",
        "        server.starttls()\n",
        "        server.login(from_email, password)\n",
        "        server.sendmail(from_email, to_email, msg.as_string())\n",
        "        server.quit()\n",
        "        print(\"Email enviado com sucesso!\")\n",
        "    except Exception as e:\n",
        "        print(f\"Erro ao enviar email: {str(e)}\")\n",
        "\n",
        "\n",
        "private_key, public_key = generate_dsa_key_pair()\n",
        "\n",
        "#mensagem escolhida para ser enviada no email\n",
        "message = \"Esta é uma mensagem de teste!\\n\"\n",
        "\n",
        "signature = sign_message(private_key, message)\n",
        "\n",
        "salt = os.urandom(16)\n",
        "key = b'segurancacomputacional'\n",
        "encrypt = False\n",
        "\n",
        "send_email(message, signature, encrypt)"
      ],
      "metadata": {
        "id": "_bv4ZmcLRukp",
        "colab": {
          "base_uri": "https://localhost:8080/"
        },
        "outputId": "e1b42fd3-feef-4420-8f74-ad6e0caefa47"
      },
      "execution_count": 27,
      "outputs": [
        {
          "output_type": "stream",
          "name": "stdout",
          "text": [
            "Email enviado com sucesso!\n"
          ]
        }
      ]
    },
    {
      "cell_type": "code",
      "source": [
        "# Configurar as informações de email e senha\n",
        "email_address = 'wacbona@gmail.com'\n",
        "password = 'rega cguq dxyx cdsd'\n",
        "\n",
        "# Configurar o servidor IMAP do Gmail\n",
        "imap_server = 'imap.gmail.com'\n",
        "imap_port = 993\n",
        "\n",
        "# Conectar-se ao servidor IMAP e ler os emails\n",
        "try:\n",
        "    mail = imaplib.IMAP4_SSL(imap_server)\n",
        "    mail.login(email_address, password)\n",
        "    mail.select(\"inbox\")\n",
        "\n",
        "    # Pesquisar por emails com o assunto \"Mensagem Assinatura Digital\"\n",
        "    status, data = mail.search(None, 'SUBJECT \"Assinatura Digital\"')\n",
        "\n",
        "    # Obter o ID do email mais recente encontrado\n",
        "    email_ids = data[0].split()\n",
        "\n",
        "    latest_email_id = email_ids[-1]\n",
        "\n",
        "        # Recuperar o conteúdo do email mais recente\n",
        "    status, msg_data = mail.fetch(latest_email_id, \"(RFC822)\")\n",
        "    msg = email.message_from_bytes(msg_data[0][1])\n",
        "\n",
        "        # Verificar se a mensagem possui partes anexadas (criptografia e assinatura)\n",
        "    for idx, part in enumerate(msg.walk()):\n",
        "            if part.get_content_type() == \"text/plain\":\n",
        "                # A parte de texto contém a mensagem ou assinatura\n",
        "                payload = part.get_payload(decode=True)\n",
        "                if part.get_content_charset() is None:\n",
        "                    charset = \"utf-8\"\n",
        "                else:\n",
        "                    charset = part.get_content_charset()\n",
        "\n",
        "                # Decodificar a mensagem ou assinatura\n",
        "                mensagem = payload.decode(charset)\n",
        "\n",
        "                if encrypt and idx == 1:\n",
        "                  mensagem = decrypt_message(mensagem, key, salt)\n",
        "\n",
        "                if idx == 1:\n",
        "                  if verify_signature(public_key, mensagem, signature):\n",
        "                    print(\"Assinatura Válida!\\n\")\n",
        "                  else:\n",
        "                    print(\"Assinatura inválida!\\n\")\n",
        "\n",
        "                print(mensagem)\n",
        "except Exception as e:\n",
        "    print(f\"Erro ao ler email: {str(e)}\")"
      ],
      "metadata": {
        "id": "dNACn4L-NUlL",
        "colab": {
          "base_uri": "https://localhost:8080/"
        },
        "outputId": "1d952386-4bb8-4706-aeb8-4d67706baa2a"
      },
      "execution_count": 28,
      "outputs": [
        {
          "output_type": "stream",
          "name": "stdout",
          "text": [
            "Assinatura Válida!\n",
            "\n",
            "Esta é uma mensagem de teste!\n",
            "\n",
            "MEQCIF93+cTWF9qKGnUO4AsUpo/SLUgpdwXYTFC4IgCAn2fsAiBsda8MIIB0fYUTswiV1u6XZ8hs0P/9+3aRPt2gNup2tw==\n"
          ]
        }
      ]
    }
  ]
}