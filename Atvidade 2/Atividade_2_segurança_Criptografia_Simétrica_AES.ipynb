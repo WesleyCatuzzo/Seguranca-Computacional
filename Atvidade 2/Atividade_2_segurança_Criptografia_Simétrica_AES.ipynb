{
  "nbformat": 4,
  "nbformat_minor": 0,
  "metadata": {
    "colab": {
      "provenance": []
    },
    "kernelspec": {
      "name": "python3",
      "display_name": "Python 3"
    },
    "language_info": {
      "name": "python"
    }
  },
  "cells": [
    {
      "cell_type": "code",
      "execution_count": 2,
      "metadata": {
        "colab": {
          "base_uri": "https://localhost:8080/"
        },
        "id": "O8MAm7TZM2vI",
        "outputId": "6aaa0673-065f-43fa-bacc-7189e26c9864"
      },
      "outputs": [
        {
          "output_type": "stream",
          "name": "stdout",
          "text": [
            "Collecting pycryptodome==3.7.1\n",
            "  Downloading pycryptodome-3.7.1.tar.gz (7.2 MB)\n",
            "\u001b[2K     \u001b[90m━━━━━━━━━━━━━━━━━━━━━━━━━━━━━━━━━━━━━━━━\u001b[0m \u001b[32m7.2/7.2 MB\u001b[0m \u001b[31m4.6 MB/s\u001b[0m eta \u001b[36m0:00:00\u001b[0m\n",
            "\u001b[?25h  Preparing metadata (setup.py) ... \u001b[?25l\u001b[?25hdone\n",
            "Building wheels for collected packages: pycryptodome\n",
            "  Building wheel for pycryptodome (setup.py) ... \u001b[?25l\u001b[?25hdone\n",
            "  Created wheel for pycryptodome: filename=pycryptodome-3.7.1-cp310-cp310-linux_x86_64.whl size=7511836 sha256=babff5415751d44a758c97a921c8618271bf0dd53402a3621608db219dc42800\n",
            "  Stored in directory: /root/.cache/pip/wheels/5e/f5/12/2a4ad4d3448eeda90babdf70c11c4e318dbb9b3717d22a18f6\n",
            "Successfully built pycryptodome\n",
            "Installing collected packages: pycryptodome\n",
            "Successfully installed pycryptodome-3.7.1\n"
          ]
        }
      ],
      "source": [
        "!pip install pycryptodome==3.7.1"
      ]
    },
    {
      "cell_type": "code",
      "source": [
        "!pip install setuptools"
      ],
      "metadata": {
        "colab": {
          "base_uri": "https://localhost:8080/"
        },
        "id": "7Npxgk9DPxsz",
        "outputId": "8ad64c74-a7db-4de5-e745-c71eef089a16"
      },
      "execution_count": 3,
      "outputs": [
        {
          "output_type": "stream",
          "name": "stdout",
          "text": [
            "Requirement already satisfied: setuptools in /usr/local/lib/python3.10/dist-packages (67.7.2)\n"
          ]
        }
      ]
    },
    {
      "cell_type": "code",
      "source": [
        "!pip install cryptography"
      ],
      "metadata": {
        "colab": {
          "base_uri": "https://localhost:8080/"
        },
        "id": "qYxn_ymgP3wW",
        "outputId": "9cab2465-5338-4b6b-9ea5-9e05542d5ea5"
      },
      "execution_count": 4,
      "outputs": [
        {
          "output_type": "stream",
          "name": "stdout",
          "text": [
            "Requirement already satisfied: cryptography in /usr/local/lib/python3.10/dist-packages (41.0.3)\n",
            "Requirement already satisfied: cffi>=1.12 in /usr/local/lib/python3.10/dist-packages (from cryptography) (1.15.1)\n",
            "Requirement already satisfied: pycparser in /usr/local/lib/python3.10/dist-packages (from cffi>=1.12->cryptography) (2.21)\n"
          ]
        }
      ]
    },
    {
      "cell_type": "code",
      "source": [
        "from Crypto.Cipher import AES\n",
        "from Crypto.Util.Padding import pad, unpad\n",
        "from Crypto.Random import get_random_bytes\n",
        "from cryptography.hazmat.primitives.ciphers import Cipher, algorithms, modes\n",
        "from cryptography.hazmat.primitives.ciphers.modes import XTS\n",
        "from cryptography.hazmat.primitives import padding\n",
        "import os\n",
        "\n",
        "\n",
        "class AESCipher:\n",
        "    def __init__(self, key_size=256, mode=AES.MODE_ECB):\n",
        "        self.key_size = key_size\n",
        "        self.mode = mode\n",
        "        self.block_size = AES.block_size\n",
        "        self.key = None\n",
        "\n",
        "    def generate_key(self):\n",
        "        self.key = get_random_bytes(self.key_size//8)\n",
        "\n",
        "    def encrypt(self, data):\n",
        "        if self.mode == AES.MODE_ECB:\n",
        "            cipher = AES.new(self.key, self.mode)\n",
        "            ct_bytes = cipher.encrypt(pad(data, self.block_size))\n",
        "            return ct_bytes\n",
        "        elif self.mode == AES.MODE_CBC:\n",
        "            # Para o modo CBC, é necessário gerar um vetor de inicialização aleatório\n",
        "            iv = get_random_bytes(self.block_size)\n",
        "            cipher = AES.new(self.key, self.mode, iv)\n",
        "            ct_bytes = cipher.encrypt(pad(data, self.block_size))\n",
        "            return iv + ct_bytes\n",
        "        elif self.mode == AES.MODE_CFB or self.mode == AES.MODE_OFB:\n",
        "            # Para os modos CFB e OFB, o vetor de inicialização é gerado aleatoriamente\n",
        "            iv = get_random_bytes(self.block_size)\n",
        "            cipher = AES.new(self.key, self.mode, iv)\n",
        "            ct_bytes = cipher.encrypt(data)\n",
        "            return iv + ct_bytes\n",
        "        elif self.mode == AES.MODE_CTR:\n",
        "            # Para o modo CTR, o nonce é gerado aleatoriamente\n",
        "            nonce = get_random_bytes(self.block_size//2)\n",
        "            cipher = AES.new(self.key, self.mode, nonce=nonce)\n",
        "            ct_bytes = cipher.encrypt(data)\n",
        "            return nonce + ct_bytes\n",
        "\n",
        "\n",
        "    def decrypt(self, ct_bytes):\n",
        "        if self.mode == AES.MODE_ECB:\n",
        "            cipher = AES.new(self.key, self.mode)\n",
        "            pt = unpad(cipher.decrypt(ct_bytes), self.block_size)\n",
        "            return pt\n",
        "        elif self.mode == AES.MODE_CBC:\n",
        "            # Para o modo CBC, o vetor de inicialização é os primeiros blocos do texto cifrado\n",
        "            iv = ct_bytes[:self.block_size]\n",
        "            ct_bytes = ct_bytes[self.block_size:]\n",
        "            cipher = AES.new(self.key, self.mode, iv)\n",
        "            pt = unpad(cipher.decrypt(ct_bytes), self.block_size)\n",
        "            return pt\n",
        "        elif self.mode == AES.MODE_CFB or self.mode == AES.MODE_OFB:\n",
        "            # Para os modos CFB e OFB, o vetor de inicialização é os primeiros blocos do texto cifrado\n",
        "            iv = ct_bytes[:self.block_size]\n",
        "            ct_bytes = ct_bytes[self.block_size:]\n",
        "            cipher = AES.new(self.key, self.mode, iv)\n",
        "            pt = cipher.decrypt(ct_bytes)\n",
        "            return pt\n",
        "        elif self.mode == AES.MODE_CTR:\n",
        "            # Para o modo CTR, o nonce é os primeiros blocos do texto cifrado\n",
        "            nonce = ct_bytes[:self.block_size//2]\n",
        "            ct_bytes = ct_bytes[self.block_size//2:]\n",
        "            cipher = AES.new(self.key, self.mode, nonce=nonce)\n",
        "            pt = cipher.decrypt(ct_bytes)\n",
        "            return pt\n",
        "\n",
        "\n",
        "\n",
        "# Instanciando a classe AESCipher com o modo CBC e tamanho da chave de 256 bits (32 bytes) ou 128 bits (16 bytes)\n",
        "cipher = AESCipher(key_size=256, mode=AES.MODE_CTR)\n",
        "\n",
        "# Gerando uma chave aleatória\n",
        "cipher.generate_key()\n",
        "\n",
        "# Mensagem a ser criptografada\n",
        "message = u\"Seguranca Computacional Criptografia Simetrica AES\".encode('utf-8')\n",
        "\n",
        "# Criptografando a mensagem\n",
        "ciphertext = cipher.encrypt(message)\n",
        "\n",
        "# Imprimindo o texto cifrado e a chave usada na criptografia\n",
        "print(\"Texto cifrado: \", ciphertext)\n",
        "print(\"Chave: \", cipher.key)\n",
        "\n",
        "# Descriptografando a mensagem\n",
        "decrypted_message = cipher.decrypt(ciphertext)\n",
        "\n",
        "# Imprimindo o texto descriptografado\n",
        "print(\"Texto descriptografado: \", decrypted_message)"
      ],
      "metadata": {
        "colab": {
          "base_uri": "https://localhost:8080/"
        },
        "id": "qcaRVX7DP_d8",
        "outputId": "9ed1a46f-4b0b-4e23-bd2d-982ff3fe63f5"
      },
      "execution_count": 22,
      "outputs": [
        {
          "output_type": "stream",
          "name": "stdout",
          "text": [
            "Texto cifrado:  b'\\xc9a\\xa0\\xbe\\xe8C^&\\xe8\\x96K\\xf6\\xb8\\xdd\\x96\\xf3\\x91\\x99\\x0c\\xc4\\xb6\"\\xc3h\\x9c\\xd3\\x0e\\x02\\xa2J;4KV\\x9f\\xa8\\xfc\\xce\\xecp\\xa8\\x96[\\xdc\\xca)e\\xfa9\\xb15C5\\xb4\\xe8\\xc6\\x97E'\n",
            "Chave:  b'4p\\xf7|\\x89\\xa1\\x10b\\xd8\\x81\\xde{\\xa5~\\xc5\\xc3z\\x1by\\n\\xf3\\x0b\\xae\\xfe\\xf7\\x13\\x95n@\\x1eA\\xf0'\n",
            "Texto descriptografado:  b'Seguranca Computacional Criptografia Simetrica AES'\n"
          ]
        }
      ]
    }
  ]
}